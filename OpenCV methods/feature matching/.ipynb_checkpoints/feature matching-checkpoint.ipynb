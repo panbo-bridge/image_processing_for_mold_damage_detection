{
 "cells": [
  {
   "cell_type": "code",
   "execution_count": 6,
   "id": "rental-whole",
   "metadata": {},
   "outputs": [],
   "source": [
    "import cv2\n",
    "import imutils\n",
    "from skimage.metrics import structural_similarity as ssim"
   ]
  },
  {
   "cell_type": "code",
   "execution_count": 21,
   "id": "proper-turtle",
   "metadata": {},
   "outputs": [],
   "source": [
    "imageB = cv2.imread(\"test images/2_def.png\")\n",
    "imageA = cv2.imread(\"test images/2_ok.png\")\n",
    "\n",
    "# convert the images to grayscale\n",
    "grayA = cv2.cvtColor(imageA, cv2.COLOR_BGR2GRAY)\n",
    "grayB = cv2.cvtColor(imageB, cv2.COLOR_BGR2GRAY)"
   ]
  },
  {
   "cell_type": "code",
   "execution_count": 22,
   "id": "sufficient-grass",
   "metadata": {},
   "outputs": [],
   "source": [
    "(score, diff) = ssim(grayA, grayB, full=True)\n",
    "diff = (diff * 255).astype(\"uint8\")\n"
   ]
  },
  {
   "cell_type": "code",
   "execution_count": 23,
   "id": "sticky-steal",
   "metadata": {},
   "outputs": [],
   "source": [
    "# threshold the difference image, followed by finding contours to\n",
    "# obtain the regions of the two input images that differ\n",
    "thresh = cv2.threshold(diff, 0, 255,\n",
    "    cv2.THRESH_BINARY_INV | cv2.THRESH_OTSU)[1]\n",
    "cnts = cv2.findContours(thresh.copy(), cv2.RETR_EXTERNAL,\n",
    "    cv2.CHAIN_APPROX_SIMPLE)\n",
    "cnts = imutils.grab_contours(cnts)"
   ]
  },
  {
   "cell_type": "code",
   "execution_count": 24,
   "id": "english-objective",
   "metadata": {},
   "outputs": [],
   "source": [
    "# loop over the contours\n",
    "for c in cnts:\n",
    "    # compute the bounding box of the contour and then draw the\n",
    "    # bounding box on both input images to represent where the two\n",
    "    # images differ\n",
    "    (x, y, w, h) = cv2.boundingRect(c)\n",
    "    cv2.rectangle(imageA, (x, y), (x + w, y + h), (0, 0, 255), 2)\n",
    "    cv2.rectangle(imageB, (x, y), (x + w, y + h), (0, 0, 255), 2)\n",
    "# show the output images\n",
    "cv2.imshow(\"Original\", imageA)\n",
    "cv2.imshow(\"Modified\", imageB)\n",
    "cv2.imshow(\"Diff\", diff)\n",
    "cv2.imshow(\"Thresh\", thresh)\n",
    "cv2.waitKey(0)\n",
    "cv2.destroyAllWindows() "
   ]
  },
  {
   "cell_type": "code",
   "execution_count": 25,
   "id": "loaded-mortgage",
   "metadata": {},
   "outputs": [
    {
     "data": {
      "text/plain": [
       "True"
      ]
     },
     "execution_count": 25,
     "metadata": {},
     "output_type": "execute_result"
    }
   ],
   "source": [
    "cv2.imwrite('test images/2_out.png',imageB)"
   ]
  },
  {
   "cell_type": "code",
   "execution_count": null,
   "id": "earned-orientation",
   "metadata": {},
   "outputs": [],
   "source": []
  }
 ],
 "metadata": {
  "kernelspec": {
   "display_name": "Python 3",
   "language": "python",
   "name": "python3"
  },
  "language_info": {
   "codemirror_mode": {
    "name": "ipython",
    "version": 3
   },
   "file_extension": ".py",
   "mimetype": "text/x-python",
   "name": "python",
   "nbconvert_exporter": "python",
   "pygments_lexer": "ipython3",
   "version": "3.7.7"
  }
 },
 "nbformat": 4,
 "nbformat_minor": 5
}
