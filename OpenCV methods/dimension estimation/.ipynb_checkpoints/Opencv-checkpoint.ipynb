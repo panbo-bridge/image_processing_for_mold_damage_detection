{
 "cells": [
  {
   "cell_type": "code",
   "execution_count": 1,
   "metadata": {
    "id": "_zjo_njsZcJs"
   },
   "outputs": [],
   "source": [
    "# import the necessary packages\n",
    "from scipy.spatial import distance as dist\n",
    "from imutils import perspective\n",
    "from imutils import contours\n",
    "import numpy as np\n",
    "import argparse\n",
    "import imutils\n",
    "import cv2\n",
    "def midpoint(ptA, ptB):\n",
    "    return ((ptA[0] + ptB[0]) * 0.5, (ptA[1] + ptB[1]) * 0.5)"
   ]
  },
  {
   "cell_type": "code",
   "execution_count": 42,
   "metadata": {
    "id": "N1buNJsPZerX"
   },
   "outputs": [],
   "source": [
    "# load the image, convert it to grayscale, and blur it slightly\n",
    "image = cv2.imread('test images/3.png')\n",
    "gray = cv2.cvtColor(image, cv2.COLOR_BGR2GRAY)\n",
    "gray = cv2.GaussianBlur(gray, (7, 7), 0)\n",
    "# perform edge detection, then perform a dilation + erosion to\n",
    "# close gaps in between object edges\n",
    "edged = cv2.Canny(gray, 50, 100)\n",
    "edged = cv2.dilate(edged, None, iterations=1)\n",
    "edged = cv2.erode(edged, None, iterations=1)\n",
    "# find contours in the edge map\n",
    "cnts = cv2.findContours(edged.copy(), cv2.RETR_EXTERNAL,\n",
    "    cv2.CHAIN_APPROX_SIMPLE)\n",
    "cnts = imutils.grab_contours(cnts)\n",
    "# sort the contours from left-to-right and initialize the\n",
    "# 'pixels per metric' calibration variable\n",
    "(cnts, _) = contours.sort_contours(cnts)\n",
    "pixelsPerMetric = None"
   ]
  },
  {
   "cell_type": "code",
   "execution_count": 43,
   "metadata": {
    "colab": {
     "base_uri": "https://localhost:8080/",
     "height": 128
    },
    "id": "eC78nUsNaFvl",
    "outputId": "87f94b0c-27da-49c1-f481-7321c8b22aad"
   },
   "outputs": [],
   "source": [
    "# loop over the contours individually\n",
    "for c in cnts:\n",
    "    if cv2.contourArea(c) < 100:\n",
    "        continue\n",
    "    orig = image.copy()\n",
    "    box = cv2.minAreaRect(c)\n",
    "    box = cv2.cv.BoxPoints(box) if imutils.is_cv2() else cv2.boxPoints(box)\n",
    "    box = np.array(box, dtype=\"int\")\n",
    "    # order the points in the contour such that they appear\n",
    "    # in top-left, top-right, bottom-right, and bottom-left\n",
    "    # order, then draw the outline of the rotated bounding\n",
    "    # box\n",
    "    box = perspective.order_points(box)\n",
    "    cv2.drawContours(orig, [box.astype(\"int\")], -1, (0, 255, 0), 2)\n",
    "    # loop over the original points and draw them\n",
    "    for (x, y) in box:\n",
    "        cv2.circle(orig, (int(x), int(y)), 5, (0, 0, 255), -1)"
   ]
  },
  {
   "cell_type": "code",
   "execution_count": 44,
   "metadata": {
    "colab": {
     "base_uri": "https://localhost:8080/",
     "height": 229
    },
    "id": "mZiIs-rMaUlh",
    "outputId": "1e8bb7e9-9238-4e91-e10e-c8cdaf48b903"
   },
   "outputs": [
    {
     "data": {
      "text/plain": [
       "array([[[221, 221, 221],\n",
       "        [221, 221, 221],\n",
       "        [221, 221, 221],\n",
       "        ...,\n",
       "        [183, 183, 183],\n",
       "        [183, 183, 183],\n",
       "        [183, 183, 183]],\n",
       "\n",
       "       [[221, 221, 221],\n",
       "        [221, 221, 221],\n",
       "        [221, 221, 221],\n",
       "        ...,\n",
       "        [183, 183, 183],\n",
       "        [183, 183, 183],\n",
       "        [183, 183, 183]],\n",
       "\n",
       "       [[221, 221, 221],\n",
       "        [221, 221, 221],\n",
       "        [221, 221, 221],\n",
       "        ...,\n",
       "        [183, 183, 183],\n",
       "        [183, 183, 183],\n",
       "        [183, 183, 183]],\n",
       "\n",
       "       ...,\n",
       "\n",
       "       [[ 98,  98,  98],\n",
       "        [ 98,  98,  98],\n",
       "        [ 98,  98,  98],\n",
       "        ...,\n",
       "        [136, 136, 136],\n",
       "        [136, 136, 136],\n",
       "        [136, 136, 136]],\n",
       "\n",
       "       [[ 98,  98,  98],\n",
       "        [ 98,  98,  98],\n",
       "        [ 98,  98,  98],\n",
       "        ...,\n",
       "        [136, 136, 136],\n",
       "        [136, 136, 136],\n",
       "        [136, 136, 136]],\n",
       "\n",
       "       [[ 98,  98,  98],\n",
       "        [ 98,  98,  98],\n",
       "        [ 98,  98,  98],\n",
       "        ...,\n",
       "        [136, 136, 136],\n",
       "        [136, 136, 136],\n",
       "        [136, 136, 136]]], dtype=uint8)"
      ]
     },
     "execution_count": 44,
     "metadata": {},
     "output_type": "execute_result"
    }
   ],
   "source": [
    "  # unpack the ordered bounding box, then compute the midpoint\n",
    "    # between the top-left and top-right coordinates, followed by\n",
    "    # the midpoint between bottom-left and bottom-right coordinates\n",
    "(tl, tr, br, bl) = box\n",
    "(tltrX, tltrY) = midpoint(tl, tr)\n",
    "(blbrX, blbrY) = midpoint(bl, br)\n",
    "    # compute the midpoint between the top-left and top-right points,\n",
    "    # followed by the midpoint between the top-righ and bottom-right\n",
    "(tlblX, tlblY) = midpoint(tl, bl)\n",
    "(trbrX, trbrY) = midpoint(tr, br)\n",
    "    # draw the midpoints on the image\n",
    "cv2.circle(orig, (int(tltrX), int(tltrY)), 5, (255, 0, 0), -1)\n",
    "cv2.circle(orig, (int(blbrX), int(blbrY)), 5, (255, 0, 0), -1)\n",
    "cv2.circle(orig, (int(tlblX), int(tlblY)), 5, (255, 0, 0), -1)\n",
    "cv2.circle(orig, (int(trbrX), int(trbrY)), 5, (255, 0, 0), -1)\n",
    "    # draw lines between the midpoints\n",
    "cv2.line(orig, (int(tltrX), int(tltrY)), (int(blbrX), int(blbrY)),\n",
    "(255, 0, 255), 2)\n",
    "cv2.line(orig, (int(tlblX), int(tlblY)), (int(trbrX), int(trbrY)),\n",
    "(255, 0, 255), 2)"
   ]
  },
  {
   "cell_type": "code",
   "execution_count": 47,
   "metadata": {
    "colab": {
     "base_uri": "https://localhost:8080/",
     "height": 229
    },
    "id": "9qxVzJuRajAw",
    "outputId": "149584ed-acab-4aaa-c1e6-196b600cb7b8"
   },
   "outputs": [],
   "source": [
    "\t# compute the Euclidean distance between the midpoints\n",
    "\tdA = dist.euclidean((tltrX, tltrY), (blbrX, blbrY))\n",
    "\tdB = dist.euclidean((tlblX, tlblY), (trbrX, trbrY))\n",
    "\t# if the pixels per metric has not been initialized, then\n",
    "\t# compute it as the ratio of pixels to supplied metric\n",
    "\t# (in this case, inches)\n",
    "\tif pixelsPerMetric is None:\n",
    "\t\tpixelsPerMetric = dB / 0.997"
   ]
  },
  {
   "cell_type": "code",
   "execution_count": 46,
   "metadata": {
    "colab": {
     "base_uri": "https://localhost:8080/",
     "height": 94
    },
    "id": "0hayOBLLa9HW",
    "outputId": "4d8e4db9-0249-42c1-a45c-1f4f8864019c"
   },
   "outputs": [
    {
     "data": {
      "text/plain": [
       "True"
      ]
     },
     "execution_count": 46,
     "metadata": {},
     "output_type": "execute_result"
    }
   ],
   "source": [
    "    # compute the size of the object\n",
    "    dimA = dA / pixelsPerMetric\n",
    "    dimB = dB / pixelsPerMetric\n",
    "    # draw the object sizes on the image\n",
    "    cv2.putText(orig, \"{:.1f}in\".format(dimA),\n",
    "        (int(tltrX - 15), int(tltrY - 10)), cv2.FONT_HERSHEY_SIMPLEX,\n",
    "        0.40, (255, 255, 255), 2)\n",
    "    cv2.putText(orig, \"{:.1f}in\".format(dimB),\n",
    "        (int(trbrX + 10), int(trbrY)), cv2.FONT_HERSHEY_SIMPLEX,\n",
    "        0.40, (255, 255, 255), 2)\n",
    "    cv2.imwrite('test images/3_out.png', orig)\n",
    "\n"
   ]
  },
  {
   "cell_type": "code",
   "execution_count": 41,
   "metadata": {
    "id": "kRtpT6R7bYRy"
   },
   "outputs": [],
   "source": [
    "    # show the output image\n",
    "    cv2.imshow('img',orig)\n",
    "    cv2.waitKey(0)\n",
    "    cv2.destroyAllWindows()"
   ]
  },
  {
   "cell_type": "code",
   "execution_count": null,
   "metadata": {},
   "outputs": [],
   "source": []
  }
 ],
 "metadata": {
  "colab": {
   "name": "Copy of Copy of Open_cv.ipynb",
   "provenance": []
  },
  "kernelspec": {
   "display_name": "Python 3",
   "language": "python",
   "name": "python3"
  },
  "language_info": {
   "codemirror_mode": {
    "name": "ipython",
    "version": 3
   },
   "file_extension": ".py",
   "mimetype": "text/x-python",
   "name": "python",
   "nbconvert_exporter": "python",
   "pygments_lexer": "ipython3",
   "version": "3.7.7"
  }
 },
 "nbformat": 4,
 "nbformat_minor": 1
}
